{
 "cells": [
  {
   "cell_type": "markdown",
   "id": "3b9048ae",
   "metadata": {},
   "source": [
    "# Analysis 1: Estimating the population mean size of your two-spot ladybirds"
   ]
  },
  {
   "cell_type": "markdown",
   "id": "238e8989",
   "metadata": {},
   "source": [
    "## Instructions for completing the workshop "
   ]
  },
  {
   "cell_type": "markdown",
   "id": "fc484c3b",
   "metadata": {},
   "source": [
    "In this workshop you are going to work together as a group to analyse the two-spot ladybird data you collected in the graveyard. \n",
    "\n",
    "There are a set of tasks below for you answer together. To be able to answer them you will need to have read Self-study Notebooks 3.1 to 3.6 and attempted Exercise Notebooks 3.1 and 3.6. "
   ]
  },
  {
   "cell_type": "markdown",
   "id": "3d749840",
   "metadata": {},
   "source": [
    "## Task 0: One student in your group to log into Learn and Noteable"
   ]
  },
  {
   "cell_type": "markdown",
   "id": "4419b350",
   "metadata": {},
   "source": [
    "THIS CANNOT GO HERE. IT MUST BE ON THE COMPUTER SCREENS.\n",
    "\n",
    "You'll be working as a group on analysing the two-spot ladybird data you collected last week. Therefore, only one member of your group needs to be logged into Learn and Noteable during this workshop.\n",
    "\n",
    "Choose someone to log in using the desk PC so that everyone can work from the large desk screen.\n",
    "\n",
    "Open up Learn and Noteable in a web browser. "
   ]
  },
  {
   "cell_type": "markdown",
   "id": "0f572d48",
   "metadata": {},
   "source": [
    "## Task 1: Enter ladybird data into an excel spreadsheet"
   ]
  },
  {
   "cell_type": "markdown",
   "id": "f05f8d42",
   "metadata": {},
   "source": [
    "Your team needs to enter the two-spot ladybird data you collected last week into an excel spreadsheet. You will later read in this data to analyse it in Python.\n",
    "\n",
    "1. On the Variation Learn site navigate to HERE. \n",
    "\n",
    "2. Click to open the spreadsheet of your team. For example, if you are in team A you should open the spreadsheet **ladybird team A.xlsx**.  \n",
    "\n",
    "3. Your team of two groups collected data from two graveyards, one with high predation of two-spot ladybirds and the other with low predation. **Make sure you know which level of predation your group collected data for.** \n",
    "\n",
    "4. Now enter your ladybird data in the correct column for your group: the \"low\" column for the low predation group and the \"high\" column for the high predation group. As both groups are doing this at the same time you may see the excel spreadsheet updating with the other group's data."
   ]
  },
  {
   "cell_type": "markdown",
   "id": "8026ac0d",
   "metadata": {},
   "source": [
    "## Task 2: Check for data errors"
   ]
  },
  {
   "cell_type": "markdown",
   "id": "0504f385",
   "metadata": {},
   "source": [
    "Whilst entering your data check for any errors. These could include typos, incorrect measurements, the wrong position of a decimal point.\n",
    "\n",
    "Once you've entered your data, double check it to make sure it has been entered correctly and no mistakes have been made copying it from your lab books into the spreadsheet."
   ]
  },
  {
   "cell_type": "markdown",
   "id": "45f7deca",
   "metadata": {},
   "source": [
    "## Task 3: Upload the excel spreadsheet to Noteable"
   ]
  },
  {
   "cell_type": "markdown",
   "id": "6996f245",
   "metadata": {},
   "source": [
    "You are now going to download the excel spreadsheet to the PC so that you can then upload it to Noteable for analysis.\n",
    "\n",
    "1. In the top left click on **File**, **Save as** and then **Download a Copy**. This will download a copy of the spreadsheet to the PC. \n",
    "\n",
    "2. Now go to Noteable. Make sure you are in the **Analysis Workshops Notebooks** folder (the same folder this notebook is in).\n",
    "\n",
    "3. On the right of Noteable you will see an **Upload** button. Click this then select your excel spreadsheet. If you can't see the file it is probably in the **Downloads** folder of the PC. Click the blue **Upload** button to begin the upload."
   ]
  },
  {
   "cell_type": "markdown",
   "id": "501f97f8",
   "metadata": {},
   "source": [
    "## Task 4: Read in and print the data"
   ]
  },
  {
   "cell_type": "markdown",
   "id": "51862156",
   "metadata": {},
   "source": [
    "Using pandas, you are now going to read in the excel spreadsheet and call it something sensible.\n",
    "\n",
    "1. In the Self-study notebooks we read in csv data files with the pandas command `pd.read_csv(filename)`. To read in excel spreadsheets we use the command `pd.read_excel(filename)`. Do this now, calling the DataFrame something sensible, such as `ladybirds`.\n",
    "\n",
    "2. Print the data to make sure it is okay."
   ]
  },
  {
   "cell_type": "markdown",
   "id": "477f4bc2",
   "metadata": {},
   "source": [
    "## Task 5: Plot your group's data"
   ]
  },
  {
   "cell_type": "markdown",
   "id": "571831b6",
   "metadata": {},
   "source": [
    "Plot your two-spot ladybird sizes in an annotated histogram in the following code cell.\n",
    "\n",
    "**Only use your group's data. Do not plot your Team's other group's data.** You'll analyse the other group's data next week."
   ]
  },
  {
   "cell_type": "code",
   "execution_count": null,
   "id": "3f010acd",
   "metadata": {},
   "outputs": [],
   "source": [
    "# Annotated histogram of two-spot ladybird sizes."
   ]
  },
  {
   "cell_type": "markdown",
   "id": "687c7b29",
   "metadata": {},
   "source": [
    "## Task 6: Check for outliers again"
   ]
  },
  {
   "cell_type": "markdown",
   "id": "c920a1ec",
   "metadata": {},
   "source": [
    "A histogram allows you to easily spot any outliers; data that are very far from the average. Perhaps the wrong species was measured. If you do think any of the data are outliers you'll need to go back to Task 3, update the excel spreadsheet and re-upload to Noteable."
   ]
  },
  {
   "cell_type": "markdown",
   "id": "8a1719d6",
   "metadata": {},
   "source": [
    "## Task 7: Eye-ball estimates of the mean and standard deviation"
   ]
  },
  {
   "cell_type": "markdown",
   "id": "1fa3ca70",
   "metadata": {},
   "source": [
    "It is generally a good idea to estimate means and standard deviations by eye before calculating them on a computer. This is so you can check your eye-ball estimates with the actual values output by Python. If they don't match then you know something is wrong: either your estimates or the Python code.\n",
    "\n",
    "Using your histogram estimate the mean and standard deviation of ladybird sizes. Remember that a rough estimate of the standard deviation is given by this formula\n",
    "\n",
    "$$s \\approx \\frac{\\mathrm{max\\ value} - \\mathrm{min\\ value}}{6}$$\n"
   ]
  },
  {
   "cell_type": "markdown",
   "id": "60b148f0",
   "metadata": {},
   "source": [
    "## Task 8: Calculate the sample size, mean and standard deviation"
   ]
  },
  {
   "cell_type": "markdown",
   "id": "5b798c8e",
   "metadata": {},
   "source": [
    "Now using Python code, calculate the sample size, mean and standard deviation of your data in the following code cell.\n",
    "\n",
    "How do they compare to your eye-ball estimates?"
   ]
  },
  {
   "cell_type": "code",
   "execution_count": 1,
   "id": "712f4d74",
   "metadata": {},
   "outputs": [],
   "source": [
    "# sample size, sample mean and sample standard deviation"
   ]
  },
  {
   "cell_type": "markdown",
   "id": "1d7c92ac",
   "metadata": {},
   "source": [
    "## Task 9: Check if your data obey the 68-95-99.7% rule"
   ]
  },
  {
   "cell_type": "markdown",
   "id": "3c06a21d",
   "metadata": {},
   "source": [
    "Now you should check to see if your data are normally distributed.\n",
    "\n",
    "1. First check if 68% of your data lie within one standard deviation of the mean using Python code.\n",
    "2. Then check if 95% of your data lie within two standard deviations of the mean.\n",
    "    - Unless you have measured several hundred ladybirds, there is no need to check the 99.7% part of the rule.\n",
    "3. Do you think your data are normally distributed?"
   ]
  },
  {
   "cell_type": "code",
   "execution_count": null,
   "id": "8eee5013",
   "metadata": {},
   "outputs": [],
   "source": [
    "# check if 68% of your data are within one standard deviation of the mean"
   ]
  },
  {
   "cell_type": "code",
   "execution_count": null,
   "id": "3ee4dadc",
   "metadata": {},
   "outputs": [],
   "source": [
    "# check if 95% of your data are within two standard deviations of the mean"
   ]
  },
  {
   "cell_type": "markdown",
   "id": "11b24e2b",
   "metadata": {},
   "source": [
    "## Task 10: Calculate your 95% confidence interval of the mean ladybird size"
   ]
  },
  {
   "cell_type": "markdown",
   "id": "f2df10f0",
   "metadata": {},
   "source": [
    "Finally, calculate your 95% confidence interval of the mean ladybird size.\n",
    "\n",
    "Write a short sentence below reporting your confidence interval."
   ]
  },
  {
   "cell_type": "code",
   "execution_count": null,
   "id": "0d8e7f20",
   "metadata": {},
   "outputs": [],
   "source": [
    "# the 95% confidence interval"
   ]
  },
  {
   "cell_type": "markdown",
   "id": "200694ae",
   "metadata": {},
   "source": [
    "> Report the 95% confidence interval"
   ]
  },
  {
   "cell_type": "markdown",
   "id": "648da50d",
   "metadata": {},
   "source": [
    "## Task 11: What does the 95% confidence interval mean?"
   ]
  },
  {
   "cell_type": "markdown",
   "id": "27ca4929",
   "metadata": {},
   "source": [
    "Do some research on the internet to discover what the 95% confidence interval means.\n",
    "\n",
    "Also research some of the common misunderstandings of the confidence interval."
   ]
  }
 ],
 "metadata": {
  "kernelspec": {
   "display_name": "Python 3 (ipykernel)",
   "language": "python",
   "name": "python3"
  },
  "language_info": {
   "codemirror_mode": {
    "name": "ipython",
    "version": 3
   },
   "file_extension": ".py",
   "mimetype": "text/x-python",
   "name": "python",
   "nbconvert_exporter": "python",
   "pygments_lexer": "ipython3",
   "version": "3.9.12"
  },
  "varInspector": {
   "cols": {
    "lenName": 16,
    "lenType": 16,
    "lenVar": 40
   },
   "kernels_config": {
    "python": {
     "delete_cmd_postfix": "",
     "delete_cmd_prefix": "del ",
     "library": "var_list.py",
     "varRefreshCmd": "print(var_dic_list())"
    },
    "r": {
     "delete_cmd_postfix": ") ",
     "delete_cmd_prefix": "rm(",
     "library": "var_list.r",
     "varRefreshCmd": "cat(var_dic_list()) "
    }
   },
   "types_to_exclude": [
    "module",
    "function",
    "builtin_function_or_method",
    "instance",
    "_Feature"
   ],
   "window_display": false
  }
 },
 "nbformat": 4,
 "nbformat_minor": 5
}
