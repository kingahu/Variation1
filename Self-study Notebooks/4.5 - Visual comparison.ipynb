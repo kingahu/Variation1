{
 "cells": [
  {
   "cell_type": "markdown",
   "metadata": {},
   "source": [
    "# Visual comparison of samples and population estimates"
   ]
  },
  {
   "cell_type": "markdown",
   "metadata": {},
   "source": [
    "<div class=\"alert alert-warning\">\n",
    "\n",
    "**In this notebook you will learn about other ways of visualising data and estimates of the population mean.**\n",
    "    \n",
    "</div>"
   ]
  },
  {
   "cell_type": "markdown",
   "metadata": {},
   "source": [
    "We have been using histograms to visualise the distribution of data in samples. A histogram is an excellent visual tool for examining the shape, location and spread of data. But it's not the only method. \n",
    "\n",
    "We'll first look at comparing samples using the strip, swarm and box plots.\n",
    "\n",
    "Then we'll look at comparing interval estimates of the population means using a bar plot.\n",
    "\n",
    "We'll use the medium ground finch beak depth data to demonstrate these plots.\n",
    "\n",
    "<div class=\"alert alert-info\">\n",
    "    \n",
    "Run the following code to read in the beak depth data and plot our usual overlapping histograms.\n",
    "</div>"
   ]
  },
  {
   "cell_type": "code",
   "execution_count": null,
   "metadata": {},
   "outputs": [],
   "source": [
    "import pandas as pd\n",
    "import seaborn as sns\n",
    "\n",
    "# Read in the medium ground finch beak depths dataset on Daphne Major in 1976 and 1978\n",
    "beak_depth = pd.read_csv('Datasets/finches beak depth.csv')\n",
    "\n",
    "# Plot histograms of beak depths in a single figure to enable comparison\n",
    "g = sns.displot(beak_depth)\n",
    "\n",
    "# Add some annotation\n",
    "g.ax.set_xlabel('Beak depth (mm)')\n",
    "g.ax.set_ylabel('Number of finches')\n",
    "g.ax.set_title('Frequency distributions of medium ground finch\\nbeak depths on Daphne Major in 1976 and 1978')\n",
    "g.legend.set_title('Year')"
   ]
  },
  {
   "cell_type": "markdown",
   "metadata": {},
   "source": [
    "## Swarm and strip plots"
   ]
  },
  {
   "cell_type": "markdown",
   "metadata": {},
   "source": [
    "Good methods of comparing sample data when there aren't too many values are the swarm and strip plots. The seaborn function to create these plots is `sns.catplot()`. We use the `kind` keyword to tell seaborn the type of plot we want:\n",
    "\n",
    "```python\n",
    "g = sns.catplot(data=beak_depth, kind='swarm')\n",
    "g = sns.catplot(data=beak_depth, kind='strip')\n",
    "```\n",
    "Note that the keyword `data` is required for these plots.\n",
    "\n",
    "<div class=\"alert alert-info\">\n",
    "    \n",
    "Run the following code to create swarm and strip plots of the beak depth data. \n",
    "</div>"
   ]
  },
  {
   "cell_type": "code",
   "execution_count": null,
   "metadata": {},
   "outputs": [],
   "source": [
    "g = sns.catplot(data=beak_depth, kind='swarm')\n",
    "g.ax.set_ylabel('Beak depth (mm)')\n",
    "g.ax.set_title('Beak depths of medium ground finches\\non Daphne Major in 1976 and 1978')\n",
    "\n",
    "g = sns.catplot(data=beak_depth, kind='strip')\n",
    "g.ax.set_ylabel('Beak depth (mm)')\n",
    "g.ax.set_title('Beak depths of medium ground finches\\non Daphne Major in 1976 and 1978');"
   ]
  },
  {
   "cell_type": "markdown",
   "metadata": {},
   "source": [
    "The measurement of a finch's beak depth is plotted as a point. The swarm plot clusters the points together, whereas a strip plot scatters the points horizontally within a vertical band.\n",
    "\n",
    "When there are too many data the points become too dense and it is hard to visualise their distribution."
   ]
  },
  {
   "cell_type": "markdown",
   "metadata": {},
   "source": [
    "## Modified boxplot"
   ]
  },
  {
   "cell_type": "markdown",
   "metadata": {},
   "source": [
    "The modified boxplot summarises the distribution of data using lines and boxes. So it doesn't show individual data points (other than outliers).\n",
    "\n",
    "The seaborn function to make a boxplot is similar to the swarm and strip plots:\n",
    "\n",
    "```python\n",
    "g = sns.catplot(data=beak_depth, kind='box')\n",
    "```\n",
    "\n",
    "<div class=\"alert alert-info\">\n",
    "Run the following code to create a modified boxplot of the beak depth data.\n",
    "</div>"
   ]
  },
  {
   "cell_type": "code",
   "execution_count": null,
   "metadata": {},
   "outputs": [],
   "source": [
    "g = sns.catplot(data=beak_depth, kind='box')\n",
    "\n",
    "g.ax.set_ylabel('Beak depth (mm)')\n",
    "g.ax.set_title('Beak depths of medium ground finches\\non Daphne Major in 1976 and 1978');"
   ]
  },
  {
   "cell_type": "markdown",
   "metadata": {},
   "source": [
    "The following video clearly explains how the modified boxplot is created and interpreted.\n",
    "\n",
    "[![this video](https://img.youtube.com/vi/tpToLyZibKM/2.jpg)](https://www.youtube.com/watch?v=tpToLyZibKM)"
   ]
  },
  {
   "cell_type": "markdown",
   "metadata": {},
   "source": [
    "## Bar plot"
   ]
  },
  {
   "cell_type": "markdown",
   "metadata": {},
   "source": [
    "Bar plots are very common in the biological and medical literature. Instead of representing samples of data, which the histogram, box, strip and swarm plots do, the bar plot is a visual representation of the point and 95% confidence interval estimates of one or more population means. \n",
    "\n",
    "This is the seaborn function to make a bar plot.\n",
    "\n",
    "```python\n",
    "g = sns.catplot(data=beak_depth, kind='bar')\n",
    "```\n",
    "\n",
    "<div class=\"alert alert-info\">\n",
    "Run the following code to create a bar plot of the beak depth data.\n",
    "</div>"
   ]
  },
  {
   "cell_type": "code",
   "execution_count": null,
   "metadata": {},
   "outputs": [],
   "source": [
    "g = sns.catplot(data=beak_depth, kind='bar')\n",
    "\n",
    "g.ax.set_ylabel('Beak depth (mm)')\n",
    "g.ax.set_title('Beak depths of medium ground finches\\non Daphne Major in 1976 and 1978');"
   ]
  },
  {
   "cell_type": "markdown",
   "metadata": {},
   "source": [
    "The top of each bar represents the point estimate of a population mean. The vertical black lines (called **error bars**) represent the 95% confidence intervals of the population means.\n",
    "\n",
    "The bar plot is useful because it compares the things we are actually interested in: the population means. But it hides the data; we have no indication of how variable the data are in each year, nor what the shape of the distributions are. Therefore, it can be useful to display both the data in one plot (histogram, box, strip, swarm plots) and the population mean estimates in another plot (bar plot)."
   ]
  },
  {
   "cell_type": "markdown",
   "metadata": {},
   "source": [
    "## Exercise Notebook"
   ]
  },
  {
   "cell_type": "markdown",
   "metadata": {},
   "source": [
    "[Visual comparison](../Exercise%20Notebooks/4.5%20-%20Visual%20comparison.ipynb)"
   ]
  }
 ],
 "metadata": {
  "kernelspec": {
   "display_name": "Python 3 (ipykernel)",
   "language": "python",
   "name": "python3"
  },
  "language_info": {
   "codemirror_mode": {
    "name": "ipython",
    "version": 3
   },
   "file_extension": ".py",
   "mimetype": "text/x-python",
   "name": "python",
   "nbconvert_exporter": "python",
   "pygments_lexer": "ipython3",
   "version": "3.9.12"
  },
  "varInspector": {
   "cols": {
    "lenName": 16,
    "lenType": 16,
    "lenVar": 40
   },
   "kernels_config": {
    "python": {
     "delete_cmd_postfix": "",
     "delete_cmd_prefix": "del ",
     "library": "var_list.py",
     "varRefreshCmd": "print(var_dic_list())"
    },
    "r": {
     "delete_cmd_postfix": ") ",
     "delete_cmd_prefix": "rm(",
     "library": "var_list.r",
     "varRefreshCmd": "cat(var_dic_list()) "
    }
   },
   "types_to_exclude": [
    "module",
    "function",
    "builtin_function_or_method",
    "instance",
    "_Feature"
   ],
   "window_display": false
  }
 },
 "nbformat": 4,
 "nbformat_minor": 2
}
