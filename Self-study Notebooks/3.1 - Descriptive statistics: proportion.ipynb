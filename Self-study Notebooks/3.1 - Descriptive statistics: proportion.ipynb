{
 "cells": [
  {
   "cell_type": "markdown",
   "id": "95316939",
   "metadata": {},
   "source": [
    "# Descriptive statistics: proportion"
   ]
  },
  {
   "cell_type": "markdown",
   "id": "b141654a",
   "metadata": {},
   "source": [
    "<div class=\"alert alert-warning\">\n",
    "\n",
    "**In this notebook you will learn how to describe categorical data using proportions.**\n",
    "    \n",
    "</div>"
   ]
  },
  {
   "cell_type": "markdown",
   "id": "ab17f760",
   "metadata": {},
   "source": [
    "Last week we looked at visualising a set of data. Visualising data collected from an experiment or from observations is very important and almost always the first step in statistically analysing your data. But visualising data is not enough. We need to say something concrete about it. And that means describing it with numbers. \n",
    "\n",
    "These numbers are called **descriptive or summary statistics of a sample**.\n",
    "\n",
    "This sounds complicated, but it's not. \n",
    "\n",
    "The most important descriptive statistic of categorical data is **proportion**. For example, last week we calculated that out of one hundred blood donors 34 of them had blood group O+. Therefore, the proportion of people with blood group O+ was 34% or 0.34.\n",
    "\n",
    "Proportions are usually written as $\\hat{p}$ (pronounced p-hat).\n",
    "\n",
    "We mentioned in the notebook \"Reading data from files\" that pandas provides lots of functions for reading in, analysing, manipulating and describing data. One of the things it does is calculate proportions of categories of categorical data stored in a DataFrame.\n",
    "\n",
    "Let's read in the blood group data again and calculate the proportions of each group. \n",
    "\n",
    "<div class=\"alert alert-info\">\n",
    "\n",
    "First lets plot it to remind ourselves of what it looks like.\n",
    "</div>"
   ]
  },
  {
   "cell_type": "code",
   "execution_count": null,
   "id": "2ef4f23c",
   "metadata": {},
   "outputs": [],
   "source": [
    "import pandas as pd \n",
    "import seaborn as sns\n",
    "\n",
    "blood_groups = pd.read_csv('Datasets/blood groups.csv')\n",
    "\n",
    "g = sns.displot(blood_groups['group'], shrink=0.8)\n",
    "\n",
    "# Add some useful annotation\n",
    "g.ax.set_xlabel('Blood group')\n",
    "g.ax.set_ylabel('Number of donors')\n",
    "g.ax.set_title('Frequency distribution of Blood groups of 100 blood donors');"
   ]
  },
  {
   "cell_type": "markdown",
   "id": "9a4edf61",
   "metadata": {},
   "source": [
    "## Frequency table"
   ]
  },
  {
   "cell_type": "markdown",
   "id": "3abd1d26",
   "metadata": {},
   "source": [
    "The pandas function `value_counts()` produces a table of frequencies of each category.\n",
    "\n",
    "<div class=\"alert alert-info\">\n",
    "\n",
    "Run the following code to see this.\n",
    "</div>"
   ]
  },
  {
   "cell_type": "code",
   "execution_count": null,
   "id": "eba1b1a1",
   "metadata": {},
   "outputs": [],
   "source": [
    "print( blood_groups['group'].value_counts() )s"
   ]
  },
  {
   "cell_type": "markdown",
   "id": "4325f269",
   "metadata": {},
   "source": [
    "This table corresponds to the bar plot. Thirty-four people have blood group O+, etc. (Ignore the `dtype: int64` bit. That's just telling us that the counts are integers.)"
   ]
  },
  {
   "cell_type": "markdown",
   "id": "60879f29",
   "metadata": {},
   "source": [
    "## Relative frequency table"
   ]
  },
  {
   "cell_type": "markdown",
   "id": "af2e6d29",
   "metadata": {},
   "source": [
    "To get the proportions we include `normalize=True` in `value_counts()` like so:\n",
    "```python\n",
    "blood_groups['group'].value_counts(normalize=True)\n",
    "```\n",
    "\n",
    "<div class=\"alert alert-info\">\n",
    "\n",
    "Run the following code to see this.\n",
    "</div>"
   ]
  },
  {
   "cell_type": "code",
   "execution_count": null,
   "id": "e395b160",
   "metadata": {},
   "outputs": [],
   "source": [
    "print( blood_groups['group'].value_counts(normalize=True) )"
   ]
  },
  {
   "cell_type": "markdown",
   "id": "a90135c1",
   "metadata": {},
   "source": [
    "That's it. These proportions are descriptive statistics of blood groups of one hundred donors. (Ignore the `dtype: float64` bit. That's just telling us that the proportions are floats.)"
   ]
  },
  {
   "cell_type": "markdown",
   "id": "aa1c1a5a",
   "metadata": {},
   "source": [
    "## Exercise Notebook"
   ]
  },
  {
   "cell_type": "markdown",
   "id": "7812742e",
   "metadata": {},
   "source": [
    "[Descriptive statistics: proportion](../Exercise%20Notebooks/3.1%20-%20Descriptive%20statistics:%20proportion.ipynb)"
   ]
  }
 ],
 "metadata": {
  "kernelspec": {
   "display_name": "Python 3 (ipykernel)",
   "language": "python",
   "name": "python3"
  },
  "language_info": {
   "codemirror_mode": {
    "name": "ipython",
    "version": 3
   },
   "file_extension": ".py",
   "mimetype": "text/x-python",
   "name": "python",
   "nbconvert_exporter": "python",
   "pygments_lexer": "ipython3",
   "version": "3.9.12"
  },
  "varInspector": {
   "cols": {
    "lenName": 16,
    "lenType": 16,
    "lenVar": 40
   },
   "kernels_config": {
    "python": {
     "delete_cmd_postfix": "",
     "delete_cmd_prefix": "del ",
     "library": "var_list.py",
     "varRefreshCmd": "print(var_dic_list())"
    },
    "r": {
     "delete_cmd_postfix": ") ",
     "delete_cmd_prefix": "rm(",
     "library": "var_list.r",
     "varRefreshCmd": "cat(var_dic_list()) "
    }
   },
   "types_to_exclude": [
    "module",
    "function",
    "builtin_function_or_method",
    "instance",
    "_Feature"
   ],
   "window_display": false
  }
 },
 "nbformat": 4,
 "nbformat_minor": 5
}
