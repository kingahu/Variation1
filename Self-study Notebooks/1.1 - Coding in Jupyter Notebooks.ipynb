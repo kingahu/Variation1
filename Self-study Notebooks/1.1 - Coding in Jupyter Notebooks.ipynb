{
 "cells": [
  {
   "cell_type": "markdown",
   "metadata": {},
   "source": [
    "# Coding in Jupyter Notebooks"
   ]
  },
  {
   "cell_type": "markdown",
   "metadata": {},
   "source": [
    "<div class=\"alert alert-warning\">\n",
    "\n",
    "**In this Notebook you will learn how Jupyter Notebooks work.**\n",
    "    \n",
    "</div>"
   ]
  },
  {
   "cell_type": "markdown",
   "metadata": {
    "button": false,
    "nbgrader": {},
    "new_sheet": false
   },
   "source": [
    "Over the next few weeks you will learn the basics of coding and statistics. To do this we are using a **programming language** called **Python**. Python is an easy-to-learn, but very powerful, programming language. As well as powering many of the apps on your phone, Python is widely used in industry and science including the Biological and Medical Sciences.\n",
    "\n",
    "To be able to write Python code and then run it you need to use a programming environment. There are many such environments; the one you will be using is called a **Jupyter Notebook**. In fact, this is a Jupyter Notebook. They are widely used in science because both text, images, videos and code can be combined into a single document within a web browser. So they can be accessed anywhere that has an internet connection.\n",
    "\n",
    "At Edinburgh Uni Jupyter Notebooks are stored and run on a service called **Noteable**. This service is always available so you can use it any time you want to write some code. You will be using Noteable not only in this course but in the Discovery course in semester 2 and other courses in later years.\n",
    "\n",
    "A Notebook consists of a series of **cells**. There are two types of cells: **Markdown cells** that contain text and images, like the one you are reading right now, and **Code cells** that contain Python code and the output of running that code. The cell just below this one is a **Code cell**.\n",
    "\n",
    "You can tell if a cell is a Code cell because it has a light grey background and its left margin contains `In [ ]:`"
   ]
  },
  {
   "cell_type": "code",
   "execution_count": null,
   "metadata": {
    "button": false,
    "nbgrader": {},
    "new_sheet": false
   },
   "outputs": [],
   "source": [
    "# this is a code cell\n",
    "# here is some Python code\n",
    "print('I am a code cell')"
   ]
  },
  {
   "cell_type": "markdown",
   "metadata": {
    "deletable": false,
    "editable": false
   },
   "source": [
    "## Selecting a cell"
   ]
  },
  {
   "cell_type": "markdown",
   "metadata": {
    "button": false,
    "nbgrader": {},
    "new_sheet": false
   },
   "source": [
    "You can select a cell by using the up and down arrow keys on your keyboard. You can tell if a cell is selected because it has a blue border around it.\n",
    "\n",
    "<div class=\"alert alert-info\">\n",
    "\n",
    "Try selecting different cells in this Notebook using the up and down arrow keys.\n",
    "    \n",
    "</div>"
   ]
  },
  {
   "cell_type": "markdown",
   "metadata": {},
   "source": [
    "You can also select a cell by placing the cursor over it and tapping the track pad."
   ]
  },
  {
   "cell_type": "markdown",
   "metadata": {
    "button": false,
    "nbgrader": {},
    "new_sheet": false
   },
   "source": [
    "## Command mode and edit mode"
   ]
  },
  {
   "cell_type": "markdown",
   "metadata": {
    "button": false,
    "nbgrader": {},
    "new_sheet": false
   },
   "source": [
    "Notebooks have two modes: **edit mode** and **command mode**. By default a Notebook begins in command mode. In order to edit a cell, you need to be in edit mode.\n",
    "\n",
    "When you are in command mode, you can press **enter** or **return** to switch to edit mode. The border of the cell you currently have selected will turn green, and a cursor will appear.\n",
    "\n",
    "<div class=\"alert alert-info\">\n",
    "\n",
    "1. Select the following code cell using the arrow keys so that it has a blue border.\n",
    "2. Switch to edit mode by pressing **enter** or **return**.\n",
    "    \n",
    "</div>"
   ]
  },
  {
   "cell_type": "code",
   "execution_count": null,
   "metadata": {
    "button": false,
    "nbgrader": {},
    "new_sheet": false
   },
   "outputs": [],
   "source": [
    "# this is a code cell\n",
    "# here is some Python code\n",
    "print('I am a code cell')"
   ]
  },
  {
   "cell_type": "markdown",
   "metadata": {
    "button": false,
    "nbgrader": {},
    "new_sheet": false
   },
   "source": [
    "When you are in edit mode, you can press **escape (or esc)** to switch to command mode. The border of the cell you currently have selected will turn blue, and the cursor will disappear.\n",
    "\n",
    "<div class=\"alert alert-info\">\n",
    "\n",
    "1. Keep the above code cell selected.\n",
    "2. Switch between command mode and edit mode by pressing **escape** and **enter**\n",
    "    \n",
    "</div>"
   ]
  },
  {
   "cell_type": "markdown",
   "metadata": {
    "button": false,
    "nbgrader": {},
    "new_sheet": false
   },
   "source": [
    "## Running a code cell runs its code and produces output"
   ]
  },
  {
   "cell_type": "markdown",
   "metadata": {
    "button": false,
    "nbgrader": {},
    "new_sheet": false
   },
   "source": [
    "When we **run** or **execute** Python code in a code cell any output is displayed just below the code.\n",
    "\n",
    "We can execute cells with **ctrl-enter** (press and hold **ctrl** then press **enter**) or **ctrl-return** which will keep the cell selected.\n",
    "\n",
    "<div class=\"alert alert-info\">\n",
    "\n",
    "1. Select the following code cell.\n",
    "2. Run it by pressing **ctrl-enter** or **ctrl-return**. Don't worry about understanding the code for now we'll come to that in a later Notebook.\n",
    "\n",
    "</div>"
   ]
  },
  {
   "cell_type": "code",
   "execution_count": null,
   "metadata": {
    "button": false,
    "nbgrader": {},
    "new_sheet": false
   },
   "outputs": [],
   "source": [
    "print('Printing cumulative sum from 1-10:')\n",
    "\n",
    "total = 0\n",
    "\n",
    "for i in range(1, 11):\n",
    "    total += i\n",
    "    print( f'Sum of 1 to {i} is {total}')\n",
    "\n",
    "print( 'Done printing numbers.' )"
   ]
  },
  {
   "cell_type": "markdown",
   "metadata": {},
   "source": [
    "## Running a markdown cell renders the text"
   ]
  },
  {
   "cell_type": "markdown",
   "metadata": {},
   "source": [
    "If you press **enter** in a markdown cell (which you may have already done by accident or design) you enter edit mode. The font of the text changes to fixed width and you lose all formatting such as blue boxes or images.\n",
    "\n",
    "To make the markdown cell appear correctly with variable width font and all formatting just **run** the markdown cell with **ctrl-enter** or **ctrl-return**. This is called rendering.\n",
    "\n",
    "<div class=\"alert alert-info\">\n",
    "\n",
    "1. Select this markdown cell.\n",
    "2. Switch between edit mode and command (rendered) mode by pressing **enter** and **ctrl-enter**.\n",
    "\n",
    "</div>"
   ]
  },
  {
   "cell_type": "markdown",
   "metadata": {
    "button": false,
    "nbgrader": {},
    "new_sheet": false
   },
   "source": [
    "## The Jupyter kernel"
   ]
  },
  {
   "cell_type": "markdown",
   "metadata": {
    "button": false,
    "nbgrader": {},
    "new_sheet": false
   },
   "source": [
    "When we first start a Notebook, we are also starting something called a **kernel**. This is a special program that runs in the background on the Noteable server and executes Python code. Whenever we run a code cell, we are telling the kernel to execute the code that is in the cell."
   ]
  },
  {
   "cell_type": "markdown",
   "metadata": {
    "button": false,
    "nbgrader": {},
    "new_sheet": false
   },
   "source": [
    "### Restarting the kernel"
   ]
  },
  {
   "attachments": {
    "kernel_restart.png": {
     "image/png": "[encoded data removed]"
    }
   },
   "cell_type": "markdown",
   "metadata": {},
   "source": [
    "If you are sure your code is correct but it keeps giving you errors then restarting the kernel often helps.\n",
    "\n",
    "The restart kernel button is the circular arrow button in the toolbar (indicated by the blue circle in this image).\n",
    "\n",
    "![kernel_restart.png](attachment:kernel_restart.png)"
   ]
  },
  {
   "cell_type": "markdown",
   "metadata": {},
   "source": [
    "## Help with Jupyer Notebooks"
   ]
  },
  {
   "cell_type": "markdown",
   "metadata": {
    "button": false,
    "nbgrader": {},
    "new_sheet": false
   },
   "source": [
    "There are many keyboard shortcuts for Jupyter Notebooks. To see a full list of these click on **Help $\\rightarrow$ Keyboard Shortcuts** in the toolbar above. There is also help on many other topics."
   ]
  },
  {
   "cell_type": "markdown",
   "metadata": {},
   "source": [
    "## Next Notebook"
   ]
  },
  {
   "cell_type": "markdown",
   "metadata": {},
   "source": [
    "Click on the link below to read the next Notebook.\n",
    "\n",
    "[Hello World](../Self-study%20Notebooks/1.2%20-%20Hello%20World.ipynb)"
   ]
  }
 ],
 "metadata": {
  "anaconda-cloud": {},
  "hide_input": false,
  "kernelspec": {
   "display_name": "Python 3 (ipykernel)",
   "language": "python",
   "name": "python3"
  },
  "language_info": {
   "codemirror_mode": {
    "name": "ipython",
    "version": 3
   },
   "file_extension": ".py",
   "mimetype": "text/x-python",
   "name": "python",
   "nbconvert_exporter": "python",
   "pygments_lexer": "ipython3",
   "version": "3.9.12"
  },
  "toc": {
   "base_numbering": 1,
   "nav_menu": {},
   "number_sections": false,
   "sideBar": true,
   "skip_h1_title": false,
   "title_cell": "Table of Contents",
   "title_sidebar": "Contents",
   "toc_cell": true,
   "toc_position": {},
   "toc_section_display": true,
   "toc_window_display": false
  },
  "varInspector": {
   "cols": {
    "lenName": 16,
    "lenType": 16,
    "lenVar": 40
   },
   "kernels_config": {
    "python": {
     "delete_cmd_postfix": "",
     "delete_cmd_prefix": "del ",
     "library": "var_list.py",
     "varRefreshCmd": "print(var_dic_list())"
    },
    "r": {
     "delete_cmd_postfix": ") ",
     "delete_cmd_prefix": "rm(",
     "library": "var_list.r",
     "varRefreshCmd": "cat(var_dic_list()) "
    }
   },
   "types_to_exclude": [
    "module",
    "function",
    "builtin_function_or_method",
    "instance",
    "_Feature"
   ],
   "window_display": false
  },
  "vscode": {
   "interpreter": {
    "hash": "5b34568b434bb6e5bf895c3fbf2a1e101e1e281d0c9e435769d397db7902ae33"
   }
  }
 },
 "nbformat": 4,
 "nbformat_minor": 4
}
