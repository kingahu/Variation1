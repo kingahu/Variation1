{
 "cells": [
  {
   "cell_type": "markdown",
   "metadata": {
    "button": false,
    "new_sheet": false
   },
   "source": [
    "# Modules"
   ]
  },
  {
   "cell_type": "markdown",
   "metadata": {},
   "source": [
    "<div class=\"alert alert-warning\">\n",
    "\n",
    "**In this notebook you will learn about modules which extend what Python can do.**\n",
    "    \n",
    "</div>"
   ]
  },
  {
   "cell_type": "markdown",
   "metadata": {},
   "source": [
    "Python can do a lot of things, and we'll see more next week. But it can't do everything. Just like downloading apps onto your mobile phone for doing specific things like playing games or social media, you can add apps to Python to do specific things. In Python these are called **modules**. \n",
    "\n",
    "We'll be using Python modules in this course for things like plotting graphs and doing statistics. But first we'll use a simple module called **math**. This module contains standard maths functions like square root, sine, log, etc. To get access to `math`'s functions we place the following at the start of our code:\n",
    "\n",
    "```python\n",
    "import math\n",
    "```\n",
    "Now we can use all of the maths functions contained in the `math` module.\n",
    "\n",
    "<div class=\"alert alert-info\">\n",
    "\n",
    "Run the following code to calculate the square root of a number.\n",
    "</div>"
   ]
  },
  {
   "cell_type": "code",
   "execution_count": null,
   "metadata": {},
   "outputs": [],
   "source": [
    "import math\n",
    "\n",
    "# The square root of 25\n",
    "math.sqrt(25)"
   ]
  },
  {
   "cell_type": "markdown",
   "metadata": {},
   "source": [
    "The name of the module comes first (`math`) followed by a period then the name of the function (`sqrt`)\n",
    "\n",
    "Documentation on all of the mathematical functions in the math module are available [here](https://docs.python.org/3/library/math.html). Most likely you will never need most of these, but it's worth knowing they are there in case you do need one of them.\n",
    "\n",
    "\n",
    "The math module also contains the value of $\\pi$ (pi) so that you don't have to remember it.\n",
    "\n",
    "<div class=\"alert alert-info\">\n",
    "\n",
    "Run the following code to print the value of $\\pi$.\n",
    "</div>"
   ]
  },
  {
   "cell_type": "code",
   "execution_count": null,
   "metadata": {},
   "outputs": [],
   "source": [
    "# The value of pi\n",
    "math.pi"
   ]
  },
  {
   "cell_type": "markdown",
   "metadata": {},
   "source": [
    "We will be making a lot of use of modules over the next few weeks."
   ]
  },
  {
   "cell_type": "markdown",
   "metadata": {},
   "source": [
    "## Import specific functions"
   ]
  },
  {
   "cell_type": "markdown",
   "metadata": {},
   "source": [
    "When we do \n",
    "\n",
    "```python\n",
    "import math\n",
    "```\n",
    "\n",
    "we get access to all of the functions in the `math` module. Instead, we can import one or more specific functions.\n",
    "\n",
    "<div class=\"alert alert-info\">\n",
    "\n",
    "In the following code we import just the sine (`sin`) and cosine (`cos`) functions and the value of $\\pi$.\n",
    "    \n",
    "Run the following code to print the sine and cosine of $\\pi$ to 1dp.\n",
    "</div>"
   ]
  },
  {
   "cell_type": "code",
   "execution_count": null,
   "metadata": {},
   "outputs": [],
   "source": [
    "from math import cos, sin, pi\n",
    "\n",
    "print( round( cos(pi), 1 ) )\n",
    "print( round( sin(pi), 1 ) )"
   ]
  },
  {
   "cell_type": "markdown",
   "metadata": {},
   "source": [
    "Notice that we now do not need to put `math.` in front of `cos`, `sin` and `pi` because we have specifically imported these from the `math` module.\n",
    "\n",
    "You can use either method, it doesn't matter which."
   ]
  },
  {
   "cell_type": "markdown",
   "metadata": {},
   "source": [
    "## Exercise Notebook"
   ]
  },
  {
   "cell_type": "markdown",
   "metadata": {},
   "source": [
    "[Modules](../Exercise%20Notebooks/1.6%20-%20Modules.ipynb)"
   ]
  }
 ],
 "metadata": {
  "anaconda-cloud": {},
  "kernelspec": {
   "display_name": "Python 3 (ipykernel)",
   "language": "python",
   "name": "python3"
  },
  "language_info": {
   "codemirror_mode": {
    "name": "ipython",
    "version": 3
   },
   "file_extension": ".py",
   "mimetype": "text/x-python",
   "name": "python",
   "nbconvert_exporter": "python",
   "pygments_lexer": "ipython3",
   "version": "3.9.12"
  },
  "varInspector": {
   "cols": {
    "lenName": 16,
    "lenType": 16,
    "lenVar": 40
   },
   "kernels_config": {
    "python": {
     "delete_cmd_postfix": "",
     "delete_cmd_prefix": "del ",
     "library": "var_list.py",
     "varRefreshCmd": "print(var_dic_list())"
    },
    "r": {
     "delete_cmd_postfix": ") ",
     "delete_cmd_prefix": "rm(",
     "library": "var_list.r",
     "varRefreshCmd": "cat(var_dic_list()) "
    }
   },
   "types_to_exclude": [
    "module",
    "function",
    "builtin_function_or_method",
    "instance",
    "_Feature"
   ],
   "window_display": false
  }
 },
 "nbformat": 4,
 "nbformat_minor": 4
}
