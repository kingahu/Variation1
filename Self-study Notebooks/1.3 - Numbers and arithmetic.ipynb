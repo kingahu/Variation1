{
 "cells": [
  {
   "cell_type": "markdown",
   "metadata": {},
   "source": [
    "# Numbers and arithmetic"
   ]
  },
  {
   "cell_type": "markdown",
   "metadata": {},
   "source": [
    "<div class=\"alert alert-warning\">\n",
    "\n",
    "**In this notebook you will learn** \n",
    "- how to do arithmetic in Python\n",
    "- the difference between integer and float numbers\n",
    "- how to round numbers\n",
    "- how large and small numbers are represented\n",
    "    \n",
    "</div>"
   ]
  },
  {
   "cell_type": "markdown",
   "metadata": {},
   "source": [
    "You've written your first code to print \"Hello World!\" and you know how to add comments to annotate your code. \n",
    "\n",
    "Computers are essentially soupped-up calculators. So let's see how numbers are represented in Python and how we do the basic arithmetic of addition, subtraction, and so on.  "
   ]
  },
  {
   "cell_type": "markdown",
   "metadata": {},
   "source": [
    "## Simple arithmetic"
   ]
  },
  {
   "cell_type": "markdown",
   "metadata": {},
   "source": [
    "In Python we can add (`2 + 3`), subtract (`2 - 3`), multiply (`2 * 3`) and divide (`2 / 3`) numbers. We can also raise a number to a power, e.g. 3 squared is `3**2`.\n",
    "\n",
    "<div class=\"alert alert-info\">\n",
    "\n",
    "Try these out in the following code cell.\n",
    "\n",
    "</div>\n",
    "\n",
    "The symbols `+`, `-`, `*`, `/` and `**` are called **arithmetic operators** in Python, that is, they \"operate\" on the numbers to give a result."
   ]
  },
  {
   "cell_type": "code",
   "execution_count": null,
   "metadata": {},
   "outputs": [],
   "source": [
    "# simple arithmetic\n",
    "2+3"
   ]
  },
  {
   "cell_type": "markdown",
   "metadata": {},
   "source": [
    "### Aside: Jupyter Notebook output\n",
    "\n",
    "If we don't use `print()` in code cells when we run them only the last result in the cell is printed. Which means running \n",
    "```python\n",
    "2+3\n",
    "2*3\n",
    "```\n",
    "only outputs \n",
    "```python\n",
    "6\n",
    "```\n",
    "If we want to output more than one result we need to use `print()` like so:\n",
    "```python\n",
    "print( 2+3 )\n",
    "print( 2*3 )\n",
    "```\n",
    "which outputs\n",
    "```python\n",
    "5\n",
    "6\n",
    "```"
   ]
  },
  {
   "cell_type": "markdown",
   "metadata": {},
   "source": [
    "## Precedence: The order of calculations matter"
   ]
  },
  {
   "cell_type": "markdown",
   "metadata": {},
   "source": [
    "Multiplication and division takes precedence over addition and subtraction. Which means `2 + 3 * 4` equals 14 not 20. The term `3 * 4` is done first (takes precedence) then the result is added to 2. \n",
    "\n",
    "We can override precedence rules by using parentheses like so `(2 + 3) * 4`. The parentheses force Python to calculate `(2 + 3)` first then multiply by `4`. \n",
    "\n",
    "Power takes precedence over multiplication and addition. So `2 * 3**2` equals 18 (two times nine) not 36 (six squared). To override precedence so that the multiplication `2 * 3` is done first you would do `(2 * 3)**2`.\n",
    "\n",
    "<div class=\"alert alert-info\">\n",
    "\n",
    "Try this out in the code cell below to convince yourself that order matters.\n",
    "\n",
    "</div>"
   ]
  },
  {
   "cell_type": "code",
   "execution_count": null,
   "metadata": {},
   "outputs": [],
   "source": [
    "# precedence\n",
    "print( 2 + 3 * 4 )\n",
    "print( (2 + 3) * 4 )"
   ]
  },
  {
   "cell_type": "markdown",
   "metadata": {},
   "source": [
    "## Number types: integers and floats"
   ]
  },
  {
   "cell_type": "markdown",
   "metadata": {},
   "source": [
    "Python has two types of numbers: whole numbers called integers (e.g., 0, 1, 7, 234, -5, -1002) and real numbers, called floats, which have a decimal point in them (e.g., 1.5, 5.678, -0.16). \n",
    "\n",
    "We can find the type of a number by using the function `type()`. \n",
    "\n",
    "<div class=\"alert alert-info\">\n",
    "\n",
    "Run `type(1)` in the code cell below. The output is `int` which tells us that Python considers  `1` to be an integer. \n",
    "\n",
    "Now run `type(1.0)` in the code cell.\n",
    "\n",
    "</div>"
   ]
  },
  {
   "cell_type": "code",
   "execution_count": null,
   "metadata": {},
   "outputs": [],
   "source": [
    "# types of numbers\n",
    "type(1)"
   ]
  },
  {
   "cell_type": "markdown",
   "metadata": {},
   "source": [
    "Unexpected? Because there is a decimal point in `1.0` Python considers it as a float and not an integer.\n",
    "\n",
    "---\n",
    "\n",
    "Here's another operation to be careful of. What **type** of number do you get if you divide 6 by 2? \n",
    "\n",
    "6 divided by 2 is 3, which is an integer right? Wrong!\n",
    "\n",
    "<div class=\"alert alert-info\">\n",
    "\n",
    "Run the following code to see.\n",
    "    \n",
    "</div>"
   ]
  },
  {
   "cell_type": "code",
   "execution_count": null,
   "metadata": {},
   "outputs": [],
   "source": [
    "print( 6 / 2 )\n",
    "type( 6 / 2 )"
   ]
  },
  {
   "cell_type": "markdown",
   "metadata": {},
   "source": [
    "Even though both 6 and 2 are integers (as they don't contain a decimal point) their division, by the division operator `/`, results in a float containing a decimal point. The division operator `/` always results in a float.\n",
    "\n",
    "To make 6 divided by 2 give the integer answer 3 we use the **integer division operator** `//`.\n",
    "\n",
    "<div class=\"alert alert-info\">\n",
    "\n",
    "Run the following code to see this.\n",
    "    \n",
    "</div>"
   ]
  },
  {
   "cell_type": "code",
   "execution_count": null,
   "metadata": {},
   "outputs": [],
   "source": [
    "print( 6 // 2 )\n",
    "type( 6 // 2 )"
   ]
  },
  {
   "cell_type": "markdown",
   "metadata": {},
   "source": [
    "## Rounding numbers"
   ]
  },
  {
   "cell_type": "markdown",
   "metadata": {},
   "source": [
    "<div class=\"alert alert-info\">\n",
    "\n",
    "Run 1/7 in the following code cell. \n",
    "\n",
    "</div>\n",
    "    "
   ]
  },
  {
   "cell_type": "code",
   "execution_count": null,
   "metadata": {},
   "outputs": [],
   "source": [
    "# rounding numbers\n",
    "print( 1/7 )"
   ]
  },
  {
   "cell_type": "markdown",
   "metadata": {},
   "source": [
    "You'll get a very long number. All those digits after the decimal point are not really necessary, especially when we are working with data collected from experiments or from the field. \n",
    "\n",
    "We can round the output of arithmetic to a fixed number of decimal places (dp for short) by using the `round()` function. For example, \n",
    "```python\n",
    "round(1/7, 3)\n",
    "``` \n",
    "will round 1/7 to 3dp.\n",
    "\n",
    "<div class=\"alert alert-info\">\n",
    "    \n",
    "Try rounding 1/7 in the above code cell to different numbers of decimal places.\n",
    "\n",
    "</div>"
   ]
  },
  {
   "cell_type": "markdown",
   "metadata": {},
   "source": [
    "## Very large and very small numbers: Scientific E-notation"
   ]
  },
  {
   "cell_type": "markdown",
   "metadata": {},
   "source": [
    "The diameter of a bacterium is about 0.0000001 metres. The number of people on the planet is about 7,968,000,000 (according to [this website](https://www.worldometers.info/world-population)). \n",
    "\n",
    "Writing out very small and very large numbers like this is tedious and error prone. They are also difficult to read.\n",
    "\n",
    "In science we use scientific notation to represent such numbers. So 0.0000001 is $1\\times 10^{-6}$ in scientific notation and 7,968,000,000 is $7.968\\times 10^{9}$. That is, we use powers of ten to represent these numbers. \n",
    "\n",
    "Python uses a similar notation called e-notation: It uses the letter `e` instead of $\\times10$. The `e` stands for *exponent*. So $1\\times 10^{-6}$ is \n",
    "\n",
    "    1e-6\n",
    "in e-notation, and $7.968\\times 10^{9}$ is\n",
    "\n",
    "    7.968e9\n",
    "\n",
    "You can use this notation when doing arithmetic as shown in the following code.\n",
    "\n",
    "\n",
    "<div class=\"alert alert-info\">\n",
    "\n",
    "Run the following code cell to see the output.\n",
    "\n",
    "</div>\n",
    "\n"
   ]
  },
  {
   "cell_type": "code",
   "execution_count": null,
   "metadata": {},
   "outputs": [],
   "source": [
    "# e-notation\n",
    "print(3.4e7 / 2.3e-9)"
   ]
  },
  {
   "cell_type": "markdown",
   "metadata": {},
   "source": [
    "## Exercise Notebook"
   ]
  },
  {
   "cell_type": "markdown",
   "metadata": {},
   "source": [
    "[Numbers and arithmetic](../Exercise%20Notebooks/1.3%20-%20Numbers%20and%20arithmetic.ipynb)"
   ]
  }
 ],
 "metadata": {
  "kernelspec": {
   "display_name": "Python 3 (ipykernel)",
   "language": "python",
   "name": "python3"
  },
  "language_info": {
   "codemirror_mode": {
    "name": "ipython",
    "version": 3
   },
   "file_extension": ".py",
   "mimetype": "text/x-python",
   "name": "python",
   "nbconvert_exporter": "python",
   "pygments_lexer": "ipython3",
   "version": "3.9.12"
  },
  "varInspector": {
   "cols": {
    "lenName": 16,
    "lenType": 16,
    "lenVar": 40
   },
   "kernels_config": {
    "python": {
     "delete_cmd_postfix": "",
     "delete_cmd_prefix": "del ",
     "library": "var_list.py",
     "varRefreshCmd": "print(var_dic_list())"
    },
    "r": {
     "delete_cmd_postfix": ") ",
     "delete_cmd_prefix": "rm(",
     "library": "var_list.r",
     "varRefreshCmd": "cat(var_dic_list()) "
    }
   },
   "types_to_exclude": [
    "module",
    "function",
    "builtin_function_or_method",
    "instance",
    "_Feature"
   ],
   "window_display": false
  }
 },
 "nbformat": 4,
 "nbformat_minor": 4
}
